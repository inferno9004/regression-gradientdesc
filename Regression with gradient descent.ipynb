{
 "cells": [
  {
   "cell_type": "markdown",
   "metadata": {
    "collapsed": true
   },
   "source": [
    "# Regression and Gradient Descent"
   ]
  },
  {
   "cell_type": "markdown",
   "metadata": {},
   "source": [
    "---\n",
    "\n",
    "## Introduction to the assignment\n",
    "\n",
    "As with the last assignment, you will be using the [Boston Housing Prices Data Set](http://archive.ics.uci.edu/ml/datasets/Housing)."
   ]
  },
  {
   "cell_type": "code",
   "execution_count": 1,
   "metadata": {
    "collapsed": false
   },
   "outputs": [],
   "source": [
    "import IPython\n",
    "import numpy as np\n",
    "import scipy as sp\n",
    "import pandas as pd\n",
    "from pandas import DataFrame,Series\n",
    "import matplotlib\n",
    "import sklearn\n",
    "import time\n",
    "\n",
    "%matplotlib inline  \n",
    "import matplotlib.pyplot as plt\n",
    "from matplotlib import pyplot, pylab\n",
    "import statsmodels.api as sm\n",
    "from sklearn.linear_model import LinearRegression\n",
    "from sklearn.metrics import mean_squared_error\n",
    "import statsmodels.formula.api as smf\n",
    "\n",
    "from __future__ import division"
   ]
  },
  {
   "cell_type": "code",
   "execution_count": 2,
   "metadata": {
    "collapsed": true
   },
   "outputs": [],
   "source": [
    "from sklearn.datasets import load_boston\n",
    "bdata = load_boston()"
   ]
  },
  {
   "cell_type": "code",
   "execution_count": 3,
   "metadata": {
    "collapsed": false
   },
   "outputs": [
    {
     "data": {
      "text/html": [
       "<div>\n",
       "<table border=\"1\" class=\"dataframe\">\n",
       "  <thead>\n",
       "    <tr style=\"text-align: right;\">\n",
       "      <th></th>\n",
       "      <th>CRIM</th>\n",
       "      <th>ZN</th>\n",
       "      <th>INDUS</th>\n",
       "      <th>CHAS</th>\n",
       "      <th>NOX</th>\n",
       "      <th>RM</th>\n",
       "      <th>AGE</th>\n",
       "      <th>DIS</th>\n",
       "      <th>RAD</th>\n",
       "      <th>TAX</th>\n",
       "      <th>PTRATIO</th>\n",
       "      <th>B</th>\n",
       "      <th>LSTAT</th>\n",
       "      <th>MEDV</th>\n",
       "    </tr>\n",
       "  </thead>\n",
       "  <tbody>\n",
       "    <tr>\n",
       "      <th>0</th>\n",
       "      <td>0.00632</td>\n",
       "      <td>18</td>\n",
       "      <td>2.31</td>\n",
       "      <td>0</td>\n",
       "      <td>0.538</td>\n",
       "      <td>6.575</td>\n",
       "      <td>65.2</td>\n",
       "      <td>4.0900</td>\n",
       "      <td>1</td>\n",
       "      <td>296</td>\n",
       "      <td>15.3</td>\n",
       "      <td>396.90</td>\n",
       "      <td>4.98</td>\n",
       "      <td>24.0</td>\n",
       "    </tr>\n",
       "    <tr>\n",
       "      <th>1</th>\n",
       "      <td>0.02731</td>\n",
       "      <td>0</td>\n",
       "      <td>7.07</td>\n",
       "      <td>0</td>\n",
       "      <td>0.469</td>\n",
       "      <td>6.421</td>\n",
       "      <td>78.9</td>\n",
       "      <td>4.9671</td>\n",
       "      <td>2</td>\n",
       "      <td>242</td>\n",
       "      <td>17.8</td>\n",
       "      <td>396.90</td>\n",
       "      <td>9.14</td>\n",
       "      <td>21.6</td>\n",
       "    </tr>\n",
       "    <tr>\n",
       "      <th>2</th>\n",
       "      <td>0.02729</td>\n",
       "      <td>0</td>\n",
       "      <td>7.07</td>\n",
       "      <td>0</td>\n",
       "      <td>0.469</td>\n",
       "      <td>7.185</td>\n",
       "      <td>61.1</td>\n",
       "      <td>4.9671</td>\n",
       "      <td>2</td>\n",
       "      <td>242</td>\n",
       "      <td>17.8</td>\n",
       "      <td>392.83</td>\n",
       "      <td>4.03</td>\n",
       "      <td>34.7</td>\n",
       "    </tr>\n",
       "    <tr>\n",
       "      <th>3</th>\n",
       "      <td>0.03237</td>\n",
       "      <td>0</td>\n",
       "      <td>2.18</td>\n",
       "      <td>0</td>\n",
       "      <td>0.458</td>\n",
       "      <td>6.998</td>\n",
       "      <td>45.8</td>\n",
       "      <td>6.0622</td>\n",
       "      <td>3</td>\n",
       "      <td>222</td>\n",
       "      <td>18.7</td>\n",
       "      <td>394.63</td>\n",
       "      <td>2.94</td>\n",
       "      <td>33.4</td>\n",
       "    </tr>\n",
       "    <tr>\n",
       "      <th>4</th>\n",
       "      <td>0.06905</td>\n",
       "      <td>0</td>\n",
       "      <td>2.18</td>\n",
       "      <td>0</td>\n",
       "      <td>0.458</td>\n",
       "      <td>7.147</td>\n",
       "      <td>54.2</td>\n",
       "      <td>6.0622</td>\n",
       "      <td>3</td>\n",
       "      <td>222</td>\n",
       "      <td>18.7</td>\n",
       "      <td>396.90</td>\n",
       "      <td>5.33</td>\n",
       "      <td>36.2</td>\n",
       "    </tr>\n",
       "  </tbody>\n",
       "</table>\n",
       "</div>"
      ],
      "text/plain": [
       "      CRIM  ZN  INDUS  CHAS    NOX     RM   AGE     DIS  RAD  TAX  PTRATIO  \\\n",
       "0  0.00632  18   2.31     0  0.538  6.575  65.2  4.0900    1  296     15.3   \n",
       "1  0.02731   0   7.07     0  0.469  6.421  78.9  4.9671    2  242     17.8   \n",
       "2  0.02729   0   7.07     0  0.469  7.185  61.1  4.9671    2  242     17.8   \n",
       "3  0.03237   0   2.18     0  0.458  6.998  45.8  6.0622    3  222     18.7   \n",
       "4  0.06905   0   2.18     0  0.458  7.147  54.2  6.0622    3  222     18.7   \n",
       "\n",
       "        B  LSTAT  MEDV  \n",
       "0  396.90   4.98  24.0  \n",
       "1  396.90   9.14  21.6  \n",
       "2  392.83   4.03  34.7  \n",
       "3  394.63   2.94  33.4  \n",
       "4  396.90   5.33  36.2  "
      ]
     },
     "execution_count": 3,
     "metadata": {},
     "output_type": "execute_result"
    }
   ],
   "source": [
    "# reset data as pandas DataFrame\n",
    "boston_df = DataFrame(bdata.data)\n",
    "\n",
    "# label columns\n",
    "boston_df.columns = bdata.feature_names\n",
    "\n",
    "# Set price column for target\n",
    "boston_df['MEDV'] = bdata.target\n",
    "\n",
    "#show\n",
    "boston_df.head()"
   ]
  },
  {
   "cell_type": "markdown",
   "metadata": {},
   "source": [
    "---\n",
    "\n",
    "## Part 1: Getting oriented\n",
    "\n",
    "Use different learning rates\n",
    "\n",
    "### 1.1 Use existing libraries\n",
    "\n",
    "Soon, you will write your own gradient descent algorithm, which you will then use to minimize the squared error cost function.  First, however, let's use the canned versions that come with Python, to make sure we understand what we're aiming to achieve.\n",
    "\n",
    "Using the same Boston housing prices dataset, use the [Linear Regression class](http://scikit-learn.org/stable/modules/generated/sklearn.linear_model.LinearRegression.html) from sklearn or the [OLS class](http://wiki.scipy.org/Cookbook/OLS) from SciPy to explore the relationship between  median housing price and number of rooms per house. Do this by first (a) regressing the housing price on the number of rooms per house, and then (b) regressing the housing price on the number of rooms per house and the (number of rooms per house) squared.  Interpret your results."
   ]
  },
  {
   "cell_type": "code",
   "execution_count": 4,
   "metadata": {
    "collapsed": false
   },
   "outputs": [
    {
     "data": {
      "text/plain": [
       "Intercept   -34.670621\n",
       "RM            9.102109\n",
       "dtype: float64"
      ]
     },
     "execution_count": 4,
     "metadata": {},
     "output_type": "execute_result"
    }
   ],
   "source": [
    "#first model with RM only\n",
    "model_1 = smf.ols(formula='MEDV ~ RM', data = boston_df).fit()\n",
    "#printng\n",
    "model_1.params"
   ]
  },
  {
   "cell_type": "code",
   "execution_count": 5,
   "metadata": {
    "collapsed": false
   },
   "outputs": [
    {
     "data": {
      "text/plain": [
       "Intercept    66.058847\n",
       "RM          -22.643262\n",
       "RM2           2.470124\n",
       "dtype: float64"
      ]
     },
     "execution_count": 5,
     "metadata": {},
     "output_type": "execute_result"
    }
   ],
   "source": [
    "#creating new variable\n",
    "boston_df[\"RM2\"] = boston_df[\"RM\"]**2\n",
    "\n",
    "#fitting model\n",
    "model_2 = smf.ols(formula='MEDV ~ RM + RM2', data = boston_df).fit()\n",
    "\n",
    "#printing\n",
    "model_2.params"
   ]
  },
  {
   "cell_type": "markdown",
   "metadata": {},
   "source": [
    "* We observe the following -\n",
    "    * In case of (a), an increase of 1 room increases house price by $9.1K\n",
    "    * In case of (b), an increase of 1 room will also increase the house price & there is evidence of non linear relationship between price and number of rooms."
   ]
  },
  {
   "cell_type": "markdown",
   "metadata": {},
   "source": [
    "### 1.2 Training and testing\n",
    "\n",
    "Chances are, for the above problem you used all of your data to fit the regression line. In some circumstances this is a reasonable thing to do, but often this will result in overfitting. Let's redo the above results the ML way, using careful cross-validation.  Since you are now experts in cross-validation, and have written your own cross-validation algorithm from scratch, you can now take a shortcut and use the libraries that others have built for you.\n",
    "\n",
    "Using the [cross-validation functions](http://scikit-learn.org/stable/modules/cross_validation.html) from scikit-learn, use 250-fold cross-validation to fit regression (a) above, i.e. the linear fit of housing price on number of rooms per house. Each fold of cross-validation will give you one slope coefficient and one intercept coefficient.  Plot the distribution of the 250 slope coefficients using a histogram with 25 bins, then draw a vertical line at the value of the slope coefficient that you estimated in 1.1 using the full dataset.  What do you notice?"
   ]
  },
  {
   "cell_type": "code",
   "execution_count": 6,
   "metadata": {
    "collapsed": true
   },
   "outputs": [],
   "source": [
    "#defining features and output\n",
    "X = boston_df[\"RM\"]\n",
    "y = boston_df[\"MEDV\"]"
   ]
  },
  {
   "cell_type": "code",
   "execution_count": 7,
   "metadata": {
    "collapsed": false
   },
   "outputs": [],
   "source": [
    "#defining folds\n",
    "from sklearn.cross_validation import KFold\n",
    "kf = KFold(506, n_folds=250)\n",
    "\n",
    "#creating test and train sets\n",
    "X_train = []\n",
    "y_train = []\n",
    "X_test = []\n",
    "y_test = []\n",
    "\n",
    "for train_index, test_index in kf:\n",
    "    X_train.append(X[train_index])\n",
    "    y_train.append(y[train_index])\n",
    "    X_test.append(X[test_index])\n",
    "    y_test.append(y[test_index])\n",
    "    \n",
    "#reshaping, as Linearregression requires matrix form\n",
    "for i in range(250):\n",
    "    if i < 6:\n",
    "        X_train[i] = X_train[i].reshape(503,1)\n",
    "        y_train[i] = y_train[i].reshape(503,1)\n",
    "        X_test[i] = X_test[i].reshape(3,1)\n",
    "        y_test[i] = y_test[i].reshape(3,1)\n",
    "    else:\n",
    "        X_train[i] = X_train[i].reshape(504,1)\n",
    "        y_train[i] = y_train[i].reshape(504,1)\n",
    "        X_test[i] = X_test[i].reshape(2,1)\n",
    "        y_test[i] = y_test[i].reshape(2,1)    "
   ]
  },
  {
   "cell_type": "code",
   "execution_count": 8,
   "metadata": {
    "collapsed": false
   },
   "outputs": [
    {
     "data": {
      "text/plain": [
       "<matplotlib.text.Text at 0x1f1c4208>"
      ]
     },
     "execution_count": 8,
     "metadata": {},
     "output_type": "execute_result"
    },
    {
     "data": {
      "image/png": "[encoded data removed]",
      "text/plain": [
       "<matplotlib.figure.Figure at 0x1f2ae470>"
      ]
     },
     "metadata": {},
     "output_type": "display_data"
    }
   ],
   "source": [
    "#storing regression results\n",
    "linear_regression = []\n",
    "for i in range(250):\n",
    "    linreg = LinearRegression()\n",
    "    linear_regression.append(linreg.fit(X_train[i], y_train[i]))   \n",
    "    \n",
    "#storing slopes    \n",
    "slopes = []\n",
    "for i in range(250):\n",
    "    slopes.append(linear_regression[i].coef_[0][0])\n",
    "    \n",
    "#plotting slope distribution    \n",
    "plt.hist(slopes, bins = 25, color=\"yellow\")\n",
    "plt.axvline(x = model_1.params[1],color = \"red\")\n",
    "pylab.xlabel(\"Slope Values\")\n",
    "pylab.ylabel(\"No. of folds\")"
   ]
  },
  {
   "cell_type": "markdown",
   "metadata": {},
   "source": [
    "* We observe that -\n",
    "    * After carrying out KFolds and the fitting regression on each fold, most of the coefficient values are around the actual value obtained in the first question.\n",
    "    * The longest bar on the histogram and the coefficient value from question are overlapping."
   ]
  },
  {
   "cell_type": "markdown",
   "metadata": {},
   "source": [
    "### 1.3 Regression lines\n",
    "\n",
    "Create a scatterplot of housing price on rooms per house, and add the two regression lines from 1.1 (or 1.2 if you prefer to do so). Show the linear regression line in red, and the linear+quadratic regression line (which may have curvature) in blue.  Label these two regression lines with the corresponding regression equations (i.e. the slope and intercept of the line).\n",
    "\n",
    "Bonus: Add the 95% confidence bands (i.e.,  the area that has a 95% chance of containing the true regression line) to each of these lines."
   ]
  },
  {
   "cell_type": "markdown",
   "metadata": {},
   "source": [
    "\n"
   ]
  },
  {
   "cell_type": "code",
   "execution_count": 9,
   "metadata": {
    "collapsed": false
   },
   "outputs": [
    {
     "data": {
      "text/plain": [
       "<matplotlib.legend.Legend at 0x1f6e8cc0>"
      ]
     },
     "execution_count": 9,
     "metadata": {},
     "output_type": "execute_result"
    },
    {
     "data": {
      "image/png": "[encoded data removed]",
      "text/plain": [
       "<matplotlib.figure.Figure at 0x1f2ae4a8>"
      ]
     },
     "metadata": {},
     "output_type": "display_data"
    }
   ],
   "source": [
    "fig, ax = plt.subplots(figsize=(15, 8))\n",
    "#ax.grid(True)\n",
    "ax.text(8.7, 48, \"y = -34.67 + 9.1x\")\n",
    "ax.text(8.7, 59, \"y = 66.05 - 22.64x + 2.47x^2\")\n",
    "ax.scatter(boston_df[\"RM\"], boston_df[\"MEDV\"], alpha=0.5, color='green', label =\"Data Points\")\n",
    "ax.plot(boston_df[\"RM\"], model_1.params[0] + (model_1.params[1]*boston_df[\"RM\"]), alpha=5, \n",
    "        color='red', label = \"Regression Line with RM\")\n",
    "ax.plot(boston_df[\"RM\"], \n",
    "           model_2.params[0] + (model_2.params[1]*boston_df[\"RM\"]) + (model_2.params[2]*((boston_df[\"RM\"])**2)), \n",
    "           alpha=0.5,  color='blue', label = \"Regression curve with RM and RM-Squared\")\n",
    "pylab.ylabel(\"Median house price ($ 1000)\")\n",
    "pylab.xlabel(\"Number of Rooms per house\")\n",
    "pylab.legend(loc=\"upper left\")"
   ]
  },
  {
   "cell_type": "markdown",
   "metadata": {},
   "source": [
    "## Part 2: Gradient descent: Linear Regression\n",
    "\n",
    "This is where it gets fun!\n",
    "\n",
    "### 2.1 Implement gradient descent with one independent variable (Average rooms per house)\n",
    "\n",
    "Implement the batch gradient descent algorithm that we discussed in class. Use the version you implement to regress the housing price on the number of rooms per house. Experiment with 3-4 different values of the learning rate *R*, and do the following:\n",
    "\n",
    "* Report the values of alpha and beta that minimize the loss function\n",
    "* Report the number of iterations it takes for your algorithm to converge (for each value of *R*)\n",
    "* Report the total running time of your algorithm, in seconds\n",
    "\n",
    "Some skeleton code is provided below, but you should feel free to delete this code and start from scratch if you prefer.\n",
    "\n",
    "* *Hint 1: Don't forget to implement a stopping condition, so that at every iteration you check whether your results have converged. Common approaches to this are to (a) check to see if the loss has stopped decreasing; and (b) check if both your current parameter esimates are close to the estimates from the previous iteration.  In both cases, \"close\" should not be ==0, it should be <=epsilon, where epsilon is something very small (like 0.0001).*\n",
    "* *Hint 2: Some people like to include a MaxIterations parameter in their gradient descent algorithm, to prevent divergence. *"
   ]
  },
  {
   "cell_type": "code",
   "execution_count": 10,
   "metadata": {
    "collapsed": false
   },
   "outputs": [],
   "source": [
    "import time\n",
    "\n",
    "\"\"\"\n",
    "Function\n",
    "--------\n",
    "bivariate_ols\n",
    "    Gradient Decent to minimize OLS. Used to find co-efficients of bivariate OLS Linear regression\n",
    "\n",
    "Parameters\n",
    "----------\n",
    "xvalues, yvalues : narray\n",
    "    xvalues: independent variable\n",
    "    yvalues: dependent variable\n",
    "    \n",
    "R: float\n",
    "    Learning rate\n",
    "    \n",
    "MaxIterations: Int\n",
    "    maximum number of iterations\n",
    "    \n",
    "\n",
    "Returns\n",
    "-------\n",
    "alpha: float\n",
    "    intercept\n",
    "    \n",
    "beta: float\n",
    "    co-efficient\n",
    "\"\"\"\n",
    "def bivariate_ols(x, y, R=0.01, MaxIterations=1000):\n",
    "    # initialize the parameters\n",
    "    start_time = time.time()\n",
    "    con = False\n",
    "    iteration = 0\n",
    "    n = len(x)\n",
    "    \n",
    "    #initial alpha & beta\n",
    "    a0 = 10\n",
    "    b0 = 8\n",
    "    \n",
    "    sum_j = 0\n",
    "    for i in range(n):\n",
    "        sum_j += (a0 + b0*x[i] - y[i])**2\n",
    "        \n",
    "    j = sum_j\n",
    "\n",
    "    while not con:\n",
    "\n",
    "        sum_grad_a0 = 0\n",
    "        for i in range(n):\n",
    "            sum_grad_a0 += (a0 + b0*x[i] - y[i])\n",
    "            \n",
    "        sum_grad_b0 = 0\n",
    "        for i in range(n):\n",
    "            sum_grad_b0 += (a0 + b0*x[i] - y[i])*x[i]\n",
    "            \n",
    "        \n",
    "        #updating alpha and beta by using learning rate\n",
    "        \n",
    "        temp_a0 = a0 - R*sum_grad_a0*(1/n)\n",
    "        temp_b0 = b0 - R*sum_grad_b0*(1/n)\n",
    "        \n",
    "        a0 = temp_a0\n",
    "        b0 = temp_b0\n",
    "        \n",
    "        e = 0\n",
    "        for i in range(n):\n",
    "            e += (a0 + b0*x[i] - y[i])**2\n",
    "            \n",
    "        \n",
    "        if(abs(j-e) <= 0.001):\n",
    "            print \" converged after %s iterations.\" %iteration\n",
    "            con = True\n",
    "            \n",
    "        #update error and iterations\n",
    "        j = e\n",
    "        iteration += 1\n",
    "        \n",
    "        if iteration == MaxIterations:\n",
    "            print \"Max Iterations reached\"\n",
    "            con = True  \n",
    "    \n",
    "    print \"Time taken: \" + str(round(time.time() - start_time,2)) + \" seconds\"\n",
    "    return a0, b0"
   ]
  },
  {
   "cell_type": "code",
   "execution_count": 11,
   "metadata": {
    "collapsed": false
   },
   "outputs": [
    {
     "name": "stdout",
     "output_type": "stream",
     "text": [
      "\n",
      " For R = 0.001 \n",
      "\n",
      "Max Iterations reached\n",
      "Time taken: 20.99 seconds\n",
      "(8.5687047856375269, 2.3046677929680524)\n",
      "\n",
      " For R = 0.01 \n",
      "\n",
      "Max Iterations reached\n",
      "Time taken: 22.29 seconds\n",
      "(4.1336658209751063, 3.0018784024731073)\n",
      "\n",
      " For R = 0.1 \n",
      "\n",
      "Max Iterations reached\n",
      "Time taken: 21.41 seconds\n",
      "(nan, nan)\n"
     ]
    }
   ],
   "source": [
    "print \"\\n For R = 0.001 \\n\"\n",
    "print bivariate_ols(boston_df[\"RM\"], boston_df[\"MEDV\"],0.001,1000)\n",
    "print \"\\n For R = 0.01 \\n\"\n",
    "print bivariate_ols(boston_df[\"RM\"], boston_df[\"MEDV\"],0.01,1000)\n",
    "print \"\\n For R = 0.1 \\n\"\n",
    "print bivariate_ols(boston_df[\"RM\"], boston_df[\"MEDV\"],0.1,1000)"
   ]
  },
  {
   "cell_type": "markdown",
   "metadata": {},
   "source": [
    "* The values of cefficients, run time for different values of R are stated above."
   ]
  },
  {
   "cell_type": "code",
   "execution_count": 12,
   "metadata": {
    "collapsed": false
   },
   "outputs": [],
   "source": [
    "#bivariate_ols(boston_df[\"RM\"], boston_df[\"MEDV\"],0.01,50000)"
   ]
  },
  {
   "cell_type": "markdown",
   "metadata": {},
   "source": [
    "* The bivariate function converges after 33110 iterations and gives us the correct slope and intercept values. These values are very close to the actual values."
   ]
  },
  {
   "cell_type": "markdown",
   "metadata": {},
   "source": [
    "### 2.2 Data normalization (done for you!)\n",
    "\n",
    "Soon, you will implement a version of gradient descent that can use an arbitrary number of independent variables. Before doing this, we want to give you some code in case you want to standardize your features."
   ]
  },
  {
   "cell_type": "code",
   "execution_count": 13,
   "metadata": {
    "collapsed": false
   },
   "outputs": [],
   "source": [
    "def standardize(raw_data):\n",
    "    return ((raw_data - np.mean(raw_data, axis = 0)) / np.std(raw_data, axis = 0))"
   ]
  },
  {
   "cell_type": "markdown",
   "metadata": {},
   "source": [
    "### 2.3 Implement gradient descent with an arbitrary number of independent variables\n",
    "\n",
    "Now that you have a simple version of gradient descent working, create a version of gradient descent that can take more than one independent variable.  Assume all independent variables will be continuous.  Test your algorithm using CRIM and RM as independent variables. Standardize these variables before before inputting them to the gradient descent algorithm. \n",
    "\n",
    "As before,  report and interpret your estimated coefficients, the number of iterations before convergence, and the total running time of your algorithm. Experiment with 2-3 different values of R.\n",
    "\n",
    "* *Hint 1: Be careful to implement this efficiently, otherwise it might take a long time for your code to run. Commands like `np.dot` can be a good friend to you on this problem*"
   ]
  },
  {
   "cell_type": "code",
   "execution_count": 14,
   "metadata": {
    "collapsed": false
   },
   "outputs": [],
   "source": [
    "\"\"\"\n",
    "Function\n",
    "--------\n",
    "multivariate_ols\n",
    "    Gradient Decent to minimize OLS. Used to find co-efficients of bivariate OLS Linear regression\n",
    "\n",
    "Parameters\n",
    "----------\n",
    "xvalue_matrix, yvalues : narray\n",
    "    xvalue_matrix: independent variable\n",
    "    yvalues: dependent variable\n",
    "    \n",
    "R: float\n",
    "    Learning rate\n",
    "    \n",
    "MaxIterations: Int\n",
    "    maximum number of iterations\n",
    "    \n",
    "\n",
    "Returns\n",
    "-------\n",
    "alpha: float\n",
    "    intercept\n",
    "    \n",
    "beta_array: array[float]\n",
    "    co-efficient\n",
    "\"\"\"\n",
    "\n",
    "def multivariate_ols(xvalue_matrix, yvalues, R, MaxIterations):\n",
    "    start_time=time.time()\n",
    "    x=xvalue_matrix\n",
    "    m=len(yvalues) #calculating length\n",
    "    epsilon=0.0001\n",
    "    n=len(x.T) #taking length of transposed matrix\n",
    "    \n",
    "    #array of coefficients\n",
    "    theta=np.array([10]*n)\n",
    "    theta=theta.reshape(-1,1)\n",
    "    \n",
    "    #transposing input\n",
    "    xTrans = x.transpose()\n",
    "    \n",
    "    #reshaping output values\n",
    "    y=yvalues.reshape(-1,1)\n",
    "    \n",
    "    #calculating hypothesis\n",
    "    yhat = np.dot(x, theta)\n",
    "    \n",
    "    #calculating loss\n",
    "    e=yhat-y\n",
    "    \n",
    "    #calculating cost\n",
    "    J = np.sum(e**2)\n",
    "    converged=False\n",
    "\n",
    "    iterations=0\n",
    "    while not converged: \n",
    "\n",
    "        #average value of gradient\n",
    "        gradient = np.dot(xTrans, e) / m\n",
    "        \n",
    "        #updating theta\n",
    "        theta = theta - R * gradient\n",
    "        \n",
    "        #updating hypothesis, loss and cost based on updated coefficients\n",
    "        yhat = np.dot(x, theta)\n",
    "        e = yhat - y\n",
    "        cost = np.sum(e ** 2)\n",
    "\n",
    "        if abs(J-cost)<=epsilon:\n",
    "            print 'Converged after %s iterations: '%iterations\n",
    "            converged = True\n",
    "\n",
    "        else:\n",
    "            J=cost\n",
    "        if iterations==MaxIterations:\n",
    "            print \"Max iterations reached\"\n",
    "            converged=True\n",
    "        iterations=iterations+1\n",
    "        \n",
    "    \n",
    "    print \"Time taken: \" + str(round(time.time() - start_time,2)) + \" seconds\"\n",
    "    return theta"
   ]
  },
  {
   "cell_type": "code",
   "execution_count": 15,
   "metadata": {
    "collapsed": false
   },
   "outputs": [
    {
     "name": "stdout",
     "output_type": "stream",
     "text": [
      "\n",
      " For R = 0.1 \n",
      "\n",
      "Converged after 113 iterations: \n",
      "Time taken: 0.0 seconds\n",
      "[[ 22.53273017]\n",
      " [  5.89519421]\n",
      " [ -2.24782868]]\n",
      "\n",
      " For R = 0.01 \n",
      "\n",
      "Converged after 1018 iterations: \n",
      "Time taken: 0.02 seconds\n",
      "[[ 22.53235932]\n",
      " [  5.89720009]\n",
      " [ -2.24579562]]\n",
      "\n",
      " For R = 0.001 \n",
      "\n",
      "Converged after 8754 iterations: \n",
      "Time taken: 0.15 seconds\n",
      "[[ 22.5308389 ]\n",
      " [  5.90314339]\n",
      " [ -2.23969647]]\n"
     ]
    }
   ],
   "source": [
    "#creating input matrix for x_matrix\n",
    "x_matrix = np.ones((506, 3, ))\n",
    "x_matrix[:,1:2] = standardize(boston_df[\"RM\"]).reshape(506,1)\n",
    "x_matrix[:,2:3] = standardize(boston_df[\"CRIM\"]).reshape(506,1)\n",
    "\n",
    "print \"\\n For R = 0.1 \\n\"\n",
    "print multivariate_ols(x_matrix, boston_df[\"MEDV\"], 0.1, 10000)\n",
    "print \"\\n For R = 0.01 \\n\"\n",
    "print multivariate_ols(x_matrix, boston_df[\"MEDV\"], 0.01, 10000)\n",
    "print \"\\n For R = 0.001 \\n\"\n",
    "print multivariate_ols(x_matrix, boston_df[\"MEDV\"], 0.001, 10000)"
   ]
  },
  {
   "cell_type": "markdown",
   "metadata": {},
   "source": [
    "* We observe the following -\n",
    "    * There is convergence after larger number of iterations if learning rate is small, so it takes more time also.\n",
    "    * However, the values of coeffs remain almost same in all chosen values of learning rate.\n",
    "    * Standardized values converge faster."
   ]
  },
  {
   "cell_type": "markdown",
   "metadata": {},
   "source": [
    "### 2.4 Compare standardized vs. non-standardized results\n",
    "\n",
    "Repeat the analysis from 2.3, but this time do not standardize your variables - i.e., use the original data. Use the same three values of R (0.1, 0.01, and 0.001). What do you notice about the running time and convergence properties of your algorithm?"
   ]
  },
  {
   "cell_type": "code",
   "execution_count": 16,
   "metadata": {
    "collapsed": false
   },
   "outputs": [
    {
     "name": "stdout",
     "output_type": "stream",
     "text": [
      "\n",
      " For R = 0.001 \n",
      "\n",
      "Converged after 336660 iterations: \n",
      "Time taken: 5.89 seconds\n",
      "[[-28.42492053]\n",
      " [  8.26126066]\n",
      " [ -0.26475149]]\n",
      "\n",
      " For R = 0.01 \n",
      "\n",
      "Converged after 43941 iterations: \n",
      "Time taken: 0.72 seconds\n",
      "[[-29.02447588]\n",
      " [  8.35444689]\n",
      " [ -0.26274883]]\n"
     ]
    }
   ],
   "source": [
    "# new matrix - un standardized data\n",
    "x_matrix = np.ones((506, 3, ))\n",
    "x_matrix[:,1:2] = (boston_df[\"RM\"]).reshape(506,1)\n",
    "x_matrix[:,2:3] = (boston_df[\"CRIM\"]).reshape(506,1)\n",
    "\n",
    "print \"\\n For R = 0.001 \\n\"\n",
    "print multivariate_ols(x_matrix, boston_df[\"MEDV\"], 0.001, 1000000)\n",
    "print \"\\n For R = 0.01 \\n\"\n",
    "print multivariate_ols(x_matrix, boston_df[\"MEDV\"], 0.01, 1000000)"
   ]
  },
  {
   "cell_type": "markdown",
   "metadata": {},
   "source": [
    "* We observe the following -\n",
    "    * Unstandardized values take a very long time and large number of iterations to converge.\n",
    "    * The values of coeffs vary a lot when the learning rate is changed."
   ]
  },
  {
   "cell_type": "markdown",
   "metadata": {},
   "source": [
    "## 3. Prediction\n",
    "\n",
    "Let's use our fitted model to make predictions about housing prices. Since the focus is now on prediction rather than the interpretation of the coefficients, it would be wise for you to first standardize your features before proceeding.\n",
    "\n",
    "### 3.1 Cross-Validation\n",
    "\n",
    "Unless you were careful above, you probably overfit your data again. Let's fix that in one of two ways. If you're feeling confident, use k-fold cross-validation to re-fit the multivariate regression from 2.3 above, and report your estimated coefficients (there should be three, corresponding to the intercept and the two coefficients for CRIM and RM). Or if you want to do the quick and dirty version, randomly divide your data into a training set (66%) and testing set (34%) and use the training set to re-fit the regression from 2.3 above. "
   ]
  },
  {
   "cell_type": "code",
   "execution_count": 17,
   "metadata": {
    "collapsed": false
   },
   "outputs": [],
   "source": [
    "# importing library\n",
    "from sklearn.cross_validation import train_test_split\n",
    "\n",
    "#creating input\n",
    "x_matrix = np.ones((506, 3, ))\n",
    "x_matrix[:,1:2] = standardize(boston_df[\"RM\"]).reshape(506,1)\n",
    "x_matrix[:,2:3] = standardize(boston_df[\"CRIM\"]).reshape(506,1)\n",
    "y = boston_df[\"MEDV\"]\n",
    "\n",
    "#creating test and train\n",
    "X_train, X_test, y_train, y_test = train_test_split(x_matrix, y, test_size=0.34, random_state = 5)"
   ]
  },
  {
   "cell_type": "code",
   "execution_count": 18,
   "metadata": {
    "collapsed": false
   },
   "outputs": [
    {
     "name": "stdout",
     "output_type": "stream",
     "text": [
      "Converged after 998 iterations: \n",
      "Time taken: 0.02 seconds\n"
     ]
    },
    {
     "data": {
      "text/plain": [
       "array([[ 22.45804901],\n",
       "       [  6.02338556],\n",
       "       [ -2.70739531]])"
      ]
     },
     "execution_count": 18,
     "metadata": {},
     "output_type": "execute_result"
    }
   ],
   "source": [
    "model_3 = multivariate_ols(X_train, y_train, 0.01, 10000)\n",
    "model_3"
   ]
  },
  {
   "cell_type": "markdown",
   "metadata": {},
   "source": [
    "* The results obtained after splitting the data and fitting regression on training data is almost the same as 2.3."
   ]
  },
  {
   "cell_type": "markdown",
   "metadata": {},
   "source": [
    "### 3.2 Predicted values and RMSE\n",
    "\n",
    "Let's figure out how accurate this predictive model turned out to be. Compute the RMSE on your test cases, i.e. take the model parameters that you found above and compare the actual to the predicted values for just the test instances. If you did this the k-fold way above, this will be the average RMSE across the k test sets. If you did this the quick and dirty way above, this will just be the RMSE on your single test set.\n",
    "\n",
    "What is your test RMSE?  How does it compare to the performance of your nearest neighbor algorithm from the last problem set?"
   ]
  },
  {
   "cell_type": "code",
   "execution_count": 19,
   "metadata": {
    "collapsed": true
   },
   "outputs": [],
   "source": [
    "#defining function for RMSE\n",
    "def compute_rmse(prediction,yvalues):\n",
    "    if len(np.array(prediction))==len(np.array(yvalues)):\n",
    "        rmse = np.sqrt(np.mean((np.array(prediction)-np.array(yvalues))**2))\n",
    "    else:\n",
    "        print(\"array length not equal\")\n",
    "        return -1\n",
    "    return rmse   "
   ]
  },
  {
   "cell_type": "code",
   "execution_count": 20,
   "metadata": {
    "collapsed": false
   },
   "outputs": [],
   "source": [
    "#prediction values using model coeffs\n",
    "y_pred = []\n",
    "for i in range(len(X_test)):\n",
    "    y_pred.append((model_3[0] + model_3[1]*X_test[i][1] + model_3[2]*X_test[i][2])[0])\n",
    "    \n",
    "#storing actual values in list\n",
    "y_actual = []\n",
    "for i in y_test.index:\n",
    "    y_actual.append(y_test[i])"
   ]
  },
  {
   "cell_type": "code",
   "execution_count": 21,
   "metadata": {
    "collapsed": false
   },
   "outputs": [
    {
     "data": {
      "text/plain": [
       "7.1082223440812164"
      ]
     },
     "execution_count": 21,
     "metadata": {},
     "output_type": "execute_result"
    }
   ],
   "source": [
    "compute_rmse(y_pred, y_actual)"
   ]
  },
  {
   "cell_type": "markdown",
   "metadata": {},
   "source": [
    "* The RMSE is around 7.1. The RMSE for nearest neighbours in the last problem set was ranging between 6 to 9 depending on the value of the L. So, we can say that RMSE values are in the same range."
   ]
  },
  {
   "cell_type": "markdown",
   "metadata": {},
   "source": [
    "### Extra Credit 1: Logistic Regression\n",
    "\n",
    "For extra credit, implement logistic regression using gradient descent. Create a new variable (EXPENSIVE) to indicate whether the median housing price is more than $400,000. Use your model  a logistic regression of EXPENSIVE on CHAS and RM. Report your results."
   ]
  },
  {
   "cell_type": "code",
   "execution_count": 22,
   "metadata": {
    "collapsed": false
   },
   "outputs": [],
   "source": [
    "# Your code here\n",
    "from math import exp \n",
    "def logistic_ols(x, y, R=0.01, MaxIterations=1000):\n",
    "    # initialize the parameters\n",
    "    start_time = time.time()\n",
    "    con = False\n",
    "    iteration = 0\n",
    "    n = len(x)\n",
    "    \n",
    "    #initial alpha & beta\n",
    "    a0 = 10\n",
    "    b = [8,5]\n",
    "    \n",
    "    \n",
    "    sum_j = 0\n",
    "    for i in range(n):\n",
    "        sum_j += (y[i] - 1/(1+exp(-(a0 + b[0]*x[i] + b[1]*x[i]))))*x[i]\n",
    "        \n",
    "    j = sum_j\n",
    "\n",
    "    while not con:\n",
    "\n",
    "        sum_grad_a0 = 0\n",
    "        for i in range(n):\n",
    "            sum_grad_a0 += (y[i] - 1/(1+exp(-(a0 + b[0]*x[i] + b[1]*x[i]))))\n",
    "            \n",
    "        sum_grad_b0 = 0\n",
    "        for i in range(n):\n",
    "            sum_grad_b0 += (y[i] - 1/(1+exp(-(a0 + b[0]*x[i] + b[1]*x[i]))))*x[i]\n",
    "            \n",
    "        sum_grad_c0 = 0\n",
    "        for i in range(n):\n",
    "            sum_grad_c0 += (y[i] - 1/(1+exp(-(a0 + b[0]*x[i] + b[1]*x[i]))))*x[i]\n",
    "            \n",
    "        \n",
    "        #updating alpha and beta by using learning rate\n",
    "        \n",
    "        temp_a0 = a0 - R*sum_grad_a0*(1/n)\n",
    "        temp_b0 = b[0] - R*sum_grad_b0*(1/n)\n",
    "        temp_b1 = b[1] - R*sum_grad_c0*(1/n)\n",
    "        \n",
    "        a0 = temp_a0\n",
    "        b[0] = temp_b0\n",
    "        b[1] = temp_b1\n",
    "        \n",
    "        e = 0\n",
    "        for i in range(n):\n",
    "            e += (y[i] - 1/(1+exp(-(a0 + b[0]*x[i] + b[1]*x[i]))))*x[i]\n",
    "            \n",
    "        \n",
    "        if(abs(j-e) <= 0.001):\n",
    "            print \" converged after %s iterations.\" %iteration\n",
    "            con = True\n",
    "            \n",
    "        #update error and iterations\n",
    "        j = e\n",
    "        iteration += 1\n",
    "        \n",
    "        if iteration == MaxIterations:\n",
    "            print \"Max Iterations reached\"\n",
    "            con = True  \n",
    "    \n",
    "    print \"Time taken: \" + str(round(time.time() - start_time,2)) + \" seconds\"\n",
    "    return a0, b"
   ]
  },
  {
   "cell_type": "code",
   "execution_count": 23,
   "metadata": {
    "collapsed": false
   },
   "outputs": [
    {
     "name": "stdout",
     "output_type": "stream",
     "text": [
      " converged after 101 iterations.\n",
      "Time taken: 4.98 seconds\n"
     ]
    },
    {
     "data": {
      "text/plain": [
       "(-12.589932462067246, [1.7097906835197385, -1.2902093164802619])"
      ]
     },
     "execution_count": 23,
     "metadata": {},
     "output_type": "execute_result"
    }
   ],
   "source": [
    "logistic_ols(standardize(boston_df[\"RM\"]), boston_df[\"MEDV\"], 0.01, 1000)"
   ]
  },
  {
   "cell_type": "markdown",
   "metadata": {},
   "source": [
    "## 4 Regularization \n",
    "\n",
    "### 4.1 Get prepped\n",
    "\n",
    "Step 1: Create new interaction variables between each possible pair of the F_s features. If you originally had *K* features, you should now have *K+K^2/2* features. Standardize all of your features.\n",
    "\n",
    "Step 2: For simplicity, generate a single training and testing set.  Randomly sample 66% of your data and call this the training set, and set aside the remaining 34% as your test set."
   ]
  },
  {
   "cell_type": "code",
   "execution_count": 24,
   "metadata": {
    "collapsed": false
   },
   "outputs": [],
   "source": [
    "# reset data as pandas DataFrame\n",
    "new_boston_df = DataFrame(bdata.data)\n",
    "\n",
    "# label columns\n",
    "new_boston_df.columns = bdata.feature_names\n",
    "\n",
    "# Set price column for target\n",
    "#new_boston_df['MEDV'] = bdata.target\n",
    "\n",
    "#show\n",
    "#new_boston_df.head()\n",
    "\n",
    "#creating a list for new features\n",
    "features = []\n",
    "for i in new_boston_df.columns:\n",
    "    features.append(i)\n",
    "    \n",
    "#creating new features    \n",
    "for i in range(13):\n",
    "    f1 = features[i]\n",
    "    new_boston_df[f1+\"*\"+f1]=new_boston_df[f1]*new_boston_df[f1]\n",
    "    j = i+1\n",
    "    for j in range(j,13):\n",
    "        f2 = features[j]\n",
    "        new_boston_df[f1+\"*\"+f2]=new_boston_df[f1]*new_boston_df[f2]\n",
    "        \n",
    "        \n",
    "# Set price column for target\n",
    "new_boston_df['MEDV'] = bdata.target"
   ]
  },
  {
   "cell_type": "markdown",
   "metadata": {},
   "source": [
    "### 4.2 Let's overfit!\n",
    "Now, using your version of multivariate regression from 2.3, let's overfit the training data. Using your training set, regress housing price on as many of those *K+K/2* features as you can.  If you get too greedy, it's possible this will take a long time to compute, so start with 5-10 features, and if you have the time, add more features.\n",
    "\n",
    "Report the RMSE when you apply your model to your training set and to your testing set. How do these numbers compare to each other, and to the RMSE from 3.2 and nearest neighbors?"
   ]
  },
  {
   "cell_type": "code",
   "execution_count": 25,
   "metadata": {
    "collapsed": false
   },
   "outputs": [],
   "source": [
    "#creating new input with 15 features\n",
    "x_matrix = np.ones((506, 16, ))\n",
    "\n",
    "x_matrix[:,1:2] = standardize(new_boston_df[\"RM\"]).reshape(506,1)\n",
    "x_matrix[:,2:3] = standardize(new_boston_df[\"CRIM\"]).reshape(506,1)\n",
    "x_matrix[:,3:4] = standardize(new_boston_df[\"DIS\"]).reshape(506,1)\n",
    "x_matrix[:,4:5] = standardize(new_boston_df[\"RAD\"]).reshape(506,1)\n",
    "x_matrix[:,5:6] = standardize(new_boston_df[\"TAX\"]).reshape(506,1)\n",
    "x_matrix[:,6:7] = standardize(new_boston_df[\"PTRATIO\"]).reshape(506,1)\n",
    "x_matrix[:,7:8] = standardize(new_boston_df[\"AGE\"]).reshape(506,1)\n",
    "x_matrix[:,8:9] = standardize(new_boston_df[\"LSTAT\"]).reshape(506,1)\n",
    "x_matrix[:,9:10] = standardize(new_boston_df[\"RM*LSTAT\"]).reshape(506,1)\n",
    "x_matrix[:,10:11] = standardize(new_boston_df[\"CRIM*RM\"]).reshape(506,1)\n",
    "x_matrix[:,11:12] = standardize(new_boston_df[\"CRIM*LSTAT\"]).reshape(506,1)\n",
    "x_matrix[:,12:13] = standardize(new_boston_df[\"CRIM*PTRATIO\"]).reshape(506,1)\n",
    "x_matrix[:,13:14] = standardize(new_boston_df[\"DIS*TAX\"]).reshape(506,1)\n",
    "x_matrix[:,14:15] = standardize(new_boston_df[\"AGE*DIS\"]).reshape(506,1)\n",
    "x_matrix[:,15:16] = standardize(new_boston_df[\"ZN*LSTAT\"]).reshape(506,1)\n",
    "\n",
    "y = new_boston_df[\"MEDV\"]\n",
    "\n",
    "#splitting into test and train\n",
    "X_train, X_test, y_train, y_test = train_test_split(x_matrix, y, test_size=0.34, random_state = 5)"
   ]
  },
  {
   "cell_type": "code",
   "execution_count": 26,
   "metadata": {
    "collapsed": false
   },
   "outputs": [
    {
     "name": "stdout",
     "output_type": "stream",
     "text": [
      "Converged after 56266 iterations: \n",
      "Time taken: 1.47 seconds\n"
     ]
    },
    {
     "data": {
      "text/plain": [
       "array([[ 22.44432146],\n",
       "       [  6.99763349],\n",
       "       [  4.49147135],\n",
       "       [ -1.70812017],\n",
       "       [  1.53113237],\n",
       "       [ -1.9664907 ],\n",
       "       [ -1.28731044],\n",
       "       [ -1.04101455],\n",
       "       [ 15.80111177],\n",
       "       [-16.90686489],\n",
       "       [ -6.26472801],\n",
       "       [ -5.24880117],\n",
       "       [  5.49683818],\n",
       "       [ -0.30529042],\n",
       "       [  0.2765893 ],\n",
       "       [  0.42280051]])"
      ]
     },
     "execution_count": 26,
     "metadata": {},
     "output_type": "execute_result"
    }
   ],
   "source": [
    "# fitting the model\n",
    "model_4 = multivariate_ols(X_train, y_train, 0.01, 100000)\n",
    "#printing the coeffs\n",
    "model_4"
   ]
  },
  {
   "cell_type": "code",
   "execution_count": 27,
   "metadata": {
    "collapsed": false
   },
   "outputs": [],
   "source": [
    "#storing the predicted values for the train set into a list\n",
    "y_trainset = []\n",
    "for i in range(len(X_train)):\n",
    "    y_trainset.append((model_4[0] \n",
    "                       + model_4[1]*X_train[i][1] \n",
    "                       + model_4[2]*X_train[i][2]\n",
    "                       + model_4[3]*X_train[i][3]\n",
    "                       + model_4[4]*X_train[i][4]\n",
    "                       + model_4[5]*X_train[i][5]\n",
    "                       + model_4[6]*X_train[i][6]\n",
    "                       + model_4[7]*X_train[i][7]\n",
    "                       + model_4[8]*X_train[i][8]\n",
    "                       + model_4[9]*X_train[i][9]\n",
    "                       + model_4[10]*X_train[i][10]\n",
    "                       + model_4[11]*X_train[i][11]\n",
    "                       + model_4[12]*X_train[i][12]\n",
    "                       + model_4[13]*X_train[i][13]\n",
    "                       + model_4[14]*X_train[i][14]\n",
    "                       + model_4[15]*X_train[i][15])[0])\n",
    "\n",
    "#storing the predicted values for the test set into a list    \n",
    "y_testset = []\n",
    "for i in range(len(X_test)):\n",
    "    y_testset.append((model_4[0] \n",
    "                       + model_4[1]*X_test[i][1] \n",
    "                       + model_4[2]*X_test[i][2]\n",
    "                       + model_4[3]*X_test[i][3]\n",
    "                       + model_4[4]*X_test[i][4]\n",
    "                       + model_4[5]*X_test[i][5]\n",
    "                       + model_4[6]*X_test[i][6]\n",
    "                       + model_4[7]*X_test[i][7]\n",
    "                       + model_4[8]*X_test[i][8]\n",
    "                       + model_4[9]*X_test[i][9]\n",
    "                       + model_4[10]*X_test[i][10]\n",
    "                       + model_4[11]*X_test[i][11]\n",
    "                       + model_4[12]*X_test[i][12]\n",
    "                       + model_4[13]*X_test[i][13]\n",
    "                       + model_4[14]*X_test[i][14]\n",
    "                       + model_4[15]*X_test[i][15])[0])"
   ]
  },
  {
   "cell_type": "code",
   "execution_count": 28,
   "metadata": {
    "collapsed": false
   },
   "outputs": [
    {
     "data": {
      "text/plain": [
       "3.7636932206980815"
      ]
     },
     "execution_count": 28,
     "metadata": {},
     "output_type": "execute_result"
    }
   ],
   "source": [
    "compute_rmse(y_trainset, y_train)"
   ]
  },
  {
   "cell_type": "code",
   "execution_count": 29,
   "metadata": {
    "collapsed": false
   },
   "outputs": [
    {
     "data": {
      "text/plain": [
       "4.9985235118860514"
      ]
     },
     "execution_count": 29,
     "metadata": {},
     "output_type": "execute_result"
    }
   ],
   "source": [
    "compute_rmse(y_testset, y_test)"
   ]
  },
  {
   "cell_type": "markdown",
   "metadata": {},
   "source": [
    "* We observe that -\n",
    "    * Upon fitting the model on the training set the RMSE = 3.73\n",
    "    * Upon fitting the model on the test set the RMSE = 4.99\n",
    "\n",
    "* This is expected as our model will always perform better on training data and perform poorly on unseen test data.\n",
    "* The values of RMSE are lower than that of section 3.2 or nearest neighbours."
   ]
  },
  {
   "cell_type": "markdown",
   "metadata": {},
   "source": [
    "### 4.3 Ridge regularization\n",
    "Incorporate L2 (Ridge) regularization into your multivariate_ols regression. Write a new version of your gradient descent algorithm that includes a regularization term \"lambda\" to penalize excessive complexity. \n",
    "\n",
    "Use your regularized regression to re-fit the model from 3.2 above on your training data. Try this for several different values of lambda, and report your RMSE for each lambda separately for your training and testing data. How do these numbers compare to each other, to the RMSE from 4.2,  to the RMSE from 2.3, and to the RMSE from nearest neighbors?\n",
    "\n",
    "Go brag to your friends about how you just implemented ridge-regularized multivariate regression using gradient descent optimization, from scratch. If you still have friends."
   ]
  },
  {
   "cell_type": "code",
   "execution_count": 30,
   "metadata": {
    "collapsed": true
   },
   "outputs": [],
   "source": [
    "\"\"\"\n",
    "Function\n",
    "--------\n",
    "multivariate_ols\n",
    "    Gradient Decent to minimize OLS. Used to find co-efficients of bivariate OLS Linear regression\n",
    "\n",
    "Parameters\n",
    "----------\n",
    "xvalue_matrix, yvalues : narray\n",
    "    xvalue_matrix: independent variable\n",
    "    yvalues: dependent variable\n",
    "    \n",
    "R: float\n",
    "    Learning rate\n",
    "    \n",
    "MaxIterations: Int\n",
    "    maximum number of iterations\n",
    "    \n",
    "\n",
    "Returns\n",
    "-------\n",
    "alpha: float\n",
    "    intercept\n",
    "    \n",
    "beta_array: array[float]\n",
    "    co-efficient\n",
    "\"\"\"\n",
    "\n",
    "def ridge_multivariate_ols(xvalue_matrix, yvalues, R, L, MaxIterations):\n",
    "    start_time=time.time()\n",
    "    x=xvalue_matrix\n",
    "    m=len(yvalues)\n",
    "    epsilon=0.0001\n",
    "    n=len(x.T)\n",
    "    \n",
    "    #array of coefficients\n",
    "    theta=np.array([10]*n)\n",
    "    theta=theta.reshape(-1,1)\n",
    "    \n",
    "    xTrans = x.transpose()\n",
    "    y=yvalues.reshape(-1,1)\n",
    "    \n",
    "    #calculating hypothesis\n",
    "    yhat = np.dot(x, theta)\n",
    "    \n",
    "    #calculating loss\n",
    "    e=yhat-y\n",
    "    \n",
    "    #calculating cost\n",
    "    J = np.sum(e**2)\n",
    "    converged=False\n",
    "\n",
    "    iterations=0\n",
    "    while not converged: \n",
    "\n",
    "        #average value of gradient\n",
    "        gradient = np.dot(xTrans, e) / m\n",
    "        \n",
    "        #updating theta\n",
    "        theta = theta - R * (gradient + (L/m)*theta)\n",
    "        \n",
    "        #updating hypothesis, loss and cost based on updated coefficients\n",
    "        yhat = np.dot(x, theta)\n",
    "        e = yhat - y\n",
    "        cost = np.sum(e ** 2)\n",
    "\n",
    "        if abs(J-cost)<=epsilon:\n",
    "            print 'Converged after %s iterations: '%iterations\n",
    "            converged = True\n",
    "\n",
    "        else:\n",
    "            J=cost\n",
    "        if iterations==MaxIterations:\n",
    "            print \"Max iterations reached\"\n",
    "            converged=True\n",
    "        iterations=iterations+1\n",
    "        \n",
    "    \n",
    "    print \"Time taken: \" + str(round(time.time() - start_time,2)) + \" seconds\"\n",
    "    return theta"
   ]
  },
  {
   "cell_type": "code",
   "execution_count": 31,
   "metadata": {
    "collapsed": false
   },
   "outputs": [],
   "source": [
    "#creating new input with 6 features\n",
    "x_matrix = np.ones((506, 7, ))\n",
    "\n",
    "x_matrix[:,1:2] = standardize(new_boston_df[\"RM\"]).reshape(506,1)\n",
    "x_matrix[:,2:3] = standardize(new_boston_df[\"CRIM\"]).reshape(506,1)\n",
    "x_matrix[:,3:4] = standardize(new_boston_df[\"DIS\"]).reshape(506,1)\n",
    "x_matrix[:,4:5] = standardize(new_boston_df[\"RAD\"]).reshape(506,1)\n",
    "x_matrix[:,5:6] = standardize(new_boston_df[\"TAX\"]).reshape(506,1)\n",
    "x_matrix[:,6:7] = standardize(new_boston_df[\"PTRATIO\"]).reshape(506,1)\n",
    "\n",
    "\n",
    "y = new_boston_df[\"MEDV\"]\n",
    "\n",
    "#splitting into test and train\n",
    "X_train, X_test, y_train, y_test = train_test_split(x_matrix, y, test_size=0.34, random_state = 5)"
   ]
  },
  {
   "cell_type": "code",
   "execution_count": 32,
   "metadata": {
    "collapsed": true
   },
   "outputs": [],
   "source": [
    "#L = [1,5,10,20,50,100,250,500,1000,2000,5000,10000]\n",
    "L = [0.001,0.005,0.1,0.5,0.7,1,3,5,7,10,13,15,20]"
   ]
  },
  {
   "cell_type": "code",
   "execution_count": 33,
   "metadata": {
    "collapsed": false
   },
   "outputs": [
    {
     "name": "stdout",
     "output_type": "stream",
     "text": [
      "Converged after 6550 iterations: \n",
      "Time taken: 0.22 seconds\n",
      "RMSE for L = 0.001\n",
      "6.7464079136\n",
      "\n",
      "\n",
      "Converged after 6556 iterations: \n",
      "Time taken: 0.12 seconds\n",
      "RMSE for L = 0.005\n",
      "6.74642028886\n",
      "\n",
      "\n",
      "Converged after 6699 iterations: \n",
      "Time taken: 0.13 seconds\n",
      "RMSE for L = 0.1\n",
      "6.74671770167\n",
      "\n",
      "\n",
      "Converged after 7236 iterations: \n",
      "Time taken: 0.18 seconds\n",
      "RMSE for L = 0.5\n",
      "6.74804689906\n",
      "\n",
      "\n",
      "Converged after 7450 iterations: \n",
      "Time taken: 0.24 seconds\n",
      "RMSE for L = 0.7\n",
      "6.74875941253\n",
      "\n",
      "\n",
      "Converged after 7705 iterations: \n",
      "Time taken: 0.15 seconds\n",
      "RMSE for L = 1\n",
      "6.74988870516\n",
      "\n",
      "\n",
      "Converged after 8310 iterations: \n",
      "Time taken: 0.3 seconds\n",
      "RMSE for L = 3\n",
      "6.75919823152\n",
      "\n",
      "\n",
      "Converged after 8251 iterations: \n",
      "Time taken: 0.17 seconds\n",
      "RMSE for L = 5\n",
      "6.77133736174\n",
      "\n",
      "\n",
      "Converged after 8017 iterations: \n",
      "Time taken: 0.22 seconds\n",
      "RMSE for L = 7\n",
      "6.78600847624\n",
      "\n",
      "\n",
      "Converged after 7579 iterations: \n",
      "Time taken: 0.21 seconds\n",
      "RMSE for L = 10\n",
      "6.81230619051\n",
      "\n",
      "\n",
      "Converged after 7134 iterations: \n",
      "Time taken: 0.16 seconds\n",
      "RMSE for L = 13\n",
      "6.84329629813\n",
      "\n",
      "\n",
      "Converged after 6852 iterations: \n",
      "Time taken: 0.23 seconds\n",
      "RMSE for L = 15\n",
      "6.86636280708\n",
      "\n",
      "\n",
      "Converged after 6216 iterations: \n",
      "Time taken: 0.2 seconds\n",
      "RMSE for L = 20\n",
      "6.93173561024\n",
      "\n",
      "\n"
     ]
    }
   ],
   "source": [
    "for l in L:\n",
    "    model_4 = ridge_multivariate_ols(X_train, y_train, 0.01, l, 10000)\n",
    "\n",
    "    y_pred = []\n",
    "    for i in range(len(X_test)):\n",
    "        y_pred.append((model_4[0] \n",
    "                       + model_4[1]*X_test[i][1] \n",
    "                       + model_4[2]*X_test[i][2]\n",
    "                       + model_4[3]*X_test[i][3]\n",
    "                       + model_4[4]*X_test[i][4]\n",
    "                       + model_4[5]*X_test[i][5]\n",
    "                       + model_4[6]*X_test[i][6])[0])\n",
    "    \n",
    "    y_actual = []\n",
    "    for i in y_test.index:\n",
    "        y_actual.append(y_test[i])\n",
    "    \n",
    "    print \"RMSE for L = %s\"%l \n",
    "    print compute_rmse(y_pred, y_actual)\n",
    "    print \"\\n\""
   ]
  },
  {
   "cell_type": "markdown",
   "metadata": {},
   "source": [
    "* The RMSE for different values of lambda are reported above. We observe the following -\n",
    "    * The RMSE values remains similar to the value of RMSE from 2.3 for lambda values uptil 20.\n",
    "    * The RMSE values tend to increase with increasing value of lambda.\n",
    "    * These RMSE values are higher when comared to section 4.2 and are similar to the RMSE from 3.2 and nearest neighbours."
   ]
  },
  {
   "cell_type": "markdown",
   "metadata": {},
   "source": [
    "### Extra Credit 2: Cross-validate lambda\n",
    "\n",
    "Use k-fold cross-validation to select the optimal value of lambda. Report the average RMSE across all training sets, and the average RMSE across all testing sets. How do these numbers compare to each other, to the RMSE from your previous efforts?  Finally, create a scatter plot that shows RMSE as a function of lambda."
   ]
  },
  {
   "cell_type": "code",
   "execution_count": 34,
   "metadata": {
    "collapsed": true
   },
   "outputs": [],
   "source": [
    "#creating new matrix with 2 features\n",
    "x_matrix = np.ones((506, 3, ))\n",
    "x_matrix[:,1:2] = standardize(boston_df[\"RM\"]).reshape(506,1)\n",
    "x_matrix[:,2:3] = standardize(boston_df[\"CRIM\"]).reshape(506,1)\n",
    "y = boston_df[\"MEDV\"]"
   ]
  },
  {
   "cell_type": "code",
   "execution_count": 35,
   "metadata": {
    "collapsed": false
   },
   "outputs": [
    {
     "name": "stdout",
     "output_type": "stream",
     "text": [
      "Converged after 492 iterations: \n",
      "Time taken: 0.03 seconds\n",
      "Converged after 519 iterations: \n",
      "Time taken: 0.02 seconds\n",
      "Converged after 474 iterations: \n",
      "Time taken: 0.01 seconds\n",
      "Converged after 542 iterations: \n",
      "Time taken: 0.02 seconds\n",
      "Converged after 541 iterations: \n",
      "Time taken: 0.01 seconds\n",
      "Converged after 551 iterations: \n",
      "Time taken: 0.01 seconds\n",
      "Converged after 506 iterations: \n",
      "Time taken: 0.01 seconds\n",
      "Converged after 578 iterations: \n",
      "Time taken: 0.02 seconds\n",
      "Converged after 572 iterations: \n",
      "Time taken: 0.02 seconds\n",
      "Converged after 520 iterations: \n",
      "Time taken: 0.01 seconds\n",
      "Converged after 492 iterations: \n",
      "Time taken: 0.02 seconds\n",
      "Converged after 519 iterations: \n",
      "Time taken: 0.02 seconds\n",
      "Converged after 474 iterations: \n",
      "Time taken: 0.01 seconds\n",
      "Converged after 542 iterations: \n",
      "Time taken: 0.03 seconds\n",
      "Converged after 541 iterations: \n",
      "Time taken: 0.03 seconds\n",
      "Converged after 551 iterations: \n",
      "Time taken: 0.02 seconds\n",
      "Converged after 506 iterations: \n",
      "Time taken: 0.03 seconds\n",
      "Converged after 578 iterations: \n",
      "Time taken: 0.02 seconds\n",
      "Converged after 572 iterations: \n",
      "Time taken: 0.02 seconds\n",
      "Converged after 520 iterations: \n",
      "Time taken: 0.02 seconds\n",
      "Converged after 492 iterations: \n",
      "Time taken: 0.02 seconds\n",
      "Converged after 519 iterations: \n",
      "Time taken: 0.01 seconds\n",
      "Converged after 474 iterations: \n",
      "Time taken: 0.01 seconds\n",
      "Converged after 542 iterations: \n",
      "Time taken: 0.02 seconds\n",
      "Converged after 541 iterations: \n",
      "Time taken: 0.01 seconds\n",
      "Converged after 551 iterations: \n",
      "Time taken: 0.02 seconds\n",
      "Converged after 506 iterations: \n",
      "Time taken: 0.02 seconds\n",
      "Converged after 578 iterations: \n",
      "Time taken: 0.02 seconds\n",
      "Converged after 572 iterations: \n",
      "Time taken: 0.02 seconds\n",
      "Converged after 520 iterations: \n",
      "Time taken: 0.03 seconds\n",
      "Converged after 492 iterations: \n",
      "Time taken: 0.02 seconds\n",
      "Converged after 519 iterations: \n",
      "Time taken: 0.02 seconds\n",
      "Converged after 474 iterations: \n",
      "Time taken: 0.01 seconds\n",
      "Converged after 542 iterations: \n",
      "Time taken: 0.01 seconds\n",
      "Converged after 541 iterations: \n",
      "Time taken: 0.02 seconds\n",
      "Converged after 551 iterations: \n",
      "Time taken: 0.02 seconds\n",
      "Converged after 506 iterations: \n",
      "Time taken: 0.01 seconds\n",
      "Converged after 578 iterations: \n",
      "Time taken: 0.02 seconds\n",
      "Converged after 572 iterations: \n",
      "Time taken: 0.02 seconds\n",
      "Converged after 520 iterations: \n",
      "Time taken: 0.01 seconds\n",
      "Converged after 492 iterations: \n",
      "Time taken: 0.01 seconds\n",
      "Converged after 519 iterations: \n",
      "Time taken: 0.02 seconds\n",
      "Converged after 474 iterations: \n",
      "Time taken: 0.01 seconds\n",
      "Converged after 542 iterations: \n",
      "Time taken: 0.02 seconds\n",
      "Converged after 541 iterations: \n",
      "Time taken: 0.02 seconds\n",
      "Converged after 551 iterations: \n",
      "Time taken: 0.02 seconds\n",
      "Converged after 506 iterations: \n",
      "Time taken: 0.02 seconds\n",
      "Converged after 578 iterations: \n",
      "Time taken: 0.03 seconds\n",
      "Converged after 572 iterations: \n",
      "Time taken: 0.02 seconds\n",
      "Converged after 520 iterations: \n",
      "Time taken: 0.01 seconds\n",
      "Max iterations reached\n",
      "Time taken: 0.0 seconds\n",
      "Max iterations reached\n",
      "Time taken: 0.0 seconds\n",
      "Max iterations reached\n",
      "Time taken: 0.0 seconds\n",
      "Max iterations reached\n",
      "Time taken: 0.0 seconds\n",
      "Max iterations reached\n",
      "Time taken: 0.0 seconds\n",
      "Max iterations reached\n",
      "Time taken: 0.0 seconds\n",
      "Max iterations reached\n",
      "Time taken: 0.0 seconds\n",
      "Max iterations reached\n",
      "Time taken: 0.0 seconds\n",
      "Max iterations reached\n",
      "Time taken: 0.0 seconds\n",
      "Max iterations reached\n",
      "Time taken: 0.0 seconds\n",
      "Max iterations reached\n",
      "Time taken: 0.0 seconds\n",
      "Max iterations reached\n",
      "Time taken: 0.0 seconds\n",
      "Max iterations reached\n",
      "Time taken: 0.0 seconds\n",
      "Max iterations reached\n",
      "Time taken: 0.0 seconds\n",
      "Max iterations reached\n",
      "Time taken: 0.0 seconds\n",
      "Max iterations reached\n",
      "Time taken: 0.0 seconds\n",
      "Max iterations reached\n",
      "Time taken: 0.0 seconds\n",
      "Max iterations reached\n",
      "Time taken: 0.0 seconds\n",
      "Max iterations reached\n",
      "Time taken: 0.0 seconds\n",
      "Max iterations reached\n",
      "Time taken: 0.0 seconds\n",
      "Max iterations reached\n",
      "Time taken: 0.0 seconds\n",
      "Max iterations reached\n",
      "Time taken: 0.0 seconds\n",
      "Max iterations reached\n",
      "Time taken: 0.0 seconds\n",
      "Max iterations reached\n",
      "Time taken: 0.0 seconds\n",
      "Max iterations reached\n",
      "Time taken: 0.0 seconds\n",
      "Max iterations reached\n",
      "Time taken: 0.0 seconds\n",
      "Max iterations reached\n",
      "Time taken: 0.0 seconds\n",
      "Max iterations reached\n",
      "Time taken: 0.0 seconds\n",
      "Max iterations reached\n",
      "Time taken: 0.0 seconds\n",
      "Max iterations reached\n",
      "Time taken: 0.0 seconds\n",
      "Max iterations reached\n",
      "Time taken: 0.0 seconds\n",
      "Max iterations reached\n",
      "Time taken: 0.0 seconds\n",
      "Max iterations reached\n",
      "Time taken: 0.0 seconds\n",
      "Max iterations reached\n",
      "Time taken: 0.0 seconds\n",
      "Max iterations reached\n",
      "Time taken: 0.0 seconds\n",
      "Max iterations reached\n",
      "Time taken: 0.0 seconds\n",
      "Max iterations reached\n",
      "Time taken: 0.0 seconds\n",
      "Max iterations reached\n",
      "Time taken: 0.0 seconds\n",
      "Max iterations reached\n",
      "Time taken: 0.0 seconds\n",
      "Max iterations reached\n",
      "Time taken: 0.0 seconds\n",
      "Max iterations reached\n",
      "Time taken: 0.0 seconds\n",
      "Max iterations reached\n",
      "Time taken: 0.0 seconds\n",
      "Max iterations reached\n",
      "Time taken: 0.0 seconds\n",
      "Max iterations reached\n",
      "Time taken: 0.0 seconds\n",
      "Max iterations reached\n",
      "Time taken: 0.0 seconds\n",
      "Max iterations reached\n",
      "Time taken: 0.0 seconds\n",
      "Max iterations reached\n",
      "Time taken: 0.0 seconds\n",
      "Max iterations reached\n",
      "Time taken: 0.0 seconds\n",
      "Max iterations reached\n",
      "Time taken: 0.0 seconds\n",
      "Max iterations reached\n",
      "Time taken: 0.0 seconds\n",
      "Max iterations reached\n",
      "Time taken: 0.0 seconds\n",
      "Max iterations reached\n",
      "Time taken: 0.0 seconds\n",
      "Max iterations reached\n",
      "Time taken: 0.0 seconds\n",
      "Max iterations reached\n",
      "Time taken: 0.0 seconds\n",
      "Max iterations reached\n",
      "Time taken: 0.0 seconds\n",
      "Max iterations reached\n",
      "Time taken: 0.0 seconds\n",
      "Max iterations reached\n",
      "Time taken: 0.0 seconds\n",
      "Max iterations reached\n",
      "Time taken: 0.0 seconds\n",
      "Max iterations reached\n",
      "Time taken: 0.0 seconds\n",
      "Max iterations reached\n",
      "Time taken: 0.0 seconds\n",
      "Max iterations reached\n",
      "Time taken: 0.0 seconds\n",
      "Max iterations reached\n",
      "Time taken: 0.0 seconds\n",
      "Max iterations reached\n",
      "Time taken: 0.0 seconds\n",
      "Max iterations reached\n",
      "Time taken: 0.0 seconds\n",
      "Max iterations reached\n",
      "Time taken: 0.0 seconds\n",
      "Max iterations reached\n",
      "Time taken: 0.0 seconds\n",
      "Max iterations reached\n",
      "Time taken: 0.0 seconds\n",
      "Max iterations reached\n",
      "Time taken: 0.0 seconds\n",
      "Max iterations reached\n",
      "Time taken: 0.0 seconds\n",
      "Max iterations reached\n",
      "Time taken: 0.0 seconds\n",
      "Max iterations reached\n",
      "Time taken: 0.0 seconds\n",
      "Max iterations reached\n",
      "Time taken: 0.0 seconds\n",
      "Max iterations reached\n",
      "Time taken: 0.0 seconds\n",
      "Max iterations reached\n",
      "Time taken: 0.0 seconds\n",
      "Max iterations reached\n",
      "Time taken: 0.0 seconds\n",
      "Max iterations reached\n",
      "Time taken: 0.0 seconds\n",
      "Max iterations reached\n",
      "Time taken: 0.0 seconds\n",
      "Max iterations reached\n",
      "Time taken: 0.0 seconds\n",
      "Max iterations reached\n",
      "Time taken: 0.0 seconds\n",
      "Max iterations reached\n",
      "Time taken: 0.0 seconds\n",
      "[ 17.23208211  17.23208211  17.23208211  17.23208211  17.23208211\n",
      "  18.147622    17.88613862  17.66149708  17.46975377  17.23589984\n",
      "  17.05677159  16.96290715  16.7996499 ]\n",
      "[ 16.98806667  16.98806667  16.98806667  16.98806667  16.98806667\n",
      "  17.87789669  17.66224198  17.46861956  17.29529889  17.07001234\n",
      "  16.88227326  16.77595327  16.56834583]\n"
     ]
    }
   ],
   "source": [
    "# creating folds\n",
    "kf=KFold(len(boston_df), n_folds=10, random_state = 5)\n",
    "\n",
    "#creating coef matrix\n",
    "coef = np.zeros([10,3,1])\n",
    "\n",
    "#creating vectors for test and train\n",
    "train_rmse = np.zeros(10)\n",
    "test_rmse = np.zeros(10)\n",
    "\n",
    "#L = [0.001,0.005,0.1,0.2,0.5,0.7,0.85,1,2,4,5,8,10,11,13,15,20,50,100,250,500]\n",
    "L = [0.001,0.005,0.1,0.5,0.7,1,3,5,7,10,13,15,20]\n",
    "\n",
    "\n",
    "mean_rmse_train,mean_rmse_test = np.zeros(len(L)), np.zeros(len(L))\n",
    "\n",
    "a,b =0,0\n",
    "\n",
    "for l in L:\n",
    "    for train_index, test_index in kf:\n",
    "        coef[a] = ridge_multivariate_ols(x_matrix[train_index], y[train_index], 0.01, 1000,l)\n",
    "        y_train = y[train_index].reshape(-1,1)\n",
    "        y_test = y[test_index].reshape(-1,1)\n",
    "        train_rmse[a] = np.sqrt(np.sum((np.dot(x_matrix[train_index],coef[a])-y_train)**2)/len(y_train))\n",
    "        test_rmse[a] = np.sqrt(np.sum((np.dot(x_matrix[test_index],coef[a])-y_test)**2)/len(y_test))\n",
    "        a+=1\n",
    "    \n",
    "    a=0\n",
    "    mean_rmse_train[b]=np.mean(train_rmse)\n",
    "    mean_rmse_test[b]=np.mean(test_rmse)\n",
    "    b+=1\n",
    "\n",
    "print mean_rmse_train\n",
    "print mean_rmse_test"
   ]
  },
  {
   "cell_type": "markdown",
   "metadata": {},
   "source": [
    "* Upon examining, The value of optimum value of L comes out to be 20, as it reports the least error."
   ]
  },
  {
   "cell_type": "markdown",
   "metadata": {},
   "source": [
    "### (Showoff) Extra Credit 3: Lambda and coefficients\n",
    "\n",
    "If you're feeling extra-special, create a parameter plot that shows how the different coefficient estimates change as a function of lambda. To make this graph intelligible, only include the *K* original F_s features in this plot"
   ]
  },
  {
   "cell_type": "code",
   "execution_count": 36,
   "metadata": {
    "collapsed": false
   },
   "outputs": [
    {
     "name": "stdout",
     "output_type": "stream",
     "text": [
      "Converged after 6176 iterations: \n",
      "Time taken: 0.23 seconds\n",
      "Converged after 6181 iterations: \n",
      "Time taken: 0.2 seconds\n",
      "Converged after 6320 iterations: \n",
      "Time taken: 0.25 seconds\n",
      "Converged after 6849 iterations: \n",
      "Time taken: 0.3 seconds\n",
      "Converged after 7071 iterations: \n",
      "Time taken: 0.31 seconds\n",
      "Converged after 7348 iterations: \n",
      "Time taken: 0.28 seconds\n",
      "Converged after 8177 iterations: \n",
      "Time taken: 0.32 seconds\n",
      "Converged after 8304 iterations: \n",
      "Time taken: 0.31 seconds\n",
      "Converged after 8211 iterations: \n",
      "Time taken: 0.21 seconds\n",
      "Converged after 7921 iterations: \n",
      "Time taken: 0.32 seconds\n",
      "Converged after 7571 iterations: \n",
      "Time taken: 0.34 seconds\n",
      "Converged after 7332 iterations: \n",
      "Time taken: 0.29 seconds\n",
      "Converged after 6755 iterations: \n",
      "Time taken: 0.19 seconds\n",
      "Converged after 4530 iterations: \n",
      "Time taken: 0.12 seconds\n",
      "Converged after 3233 iterations: \n",
      "Time taken: 0.09 seconds\n",
      "Converged after 1919 iterations: \n",
      "Time taken: 0.05 seconds\n",
      "Converged after 1167 iterations: \n",
      "Time taken: 0.04 seconds\n",
      "Converged after 845 iterations: \n",
      "Time taken: 0.02 seconds\n"
     ]
    },
    {
     "data": {
      "text/plain": [
       "<matplotlib.text.Text at 0x1fbe8978>"
      ]
     },
     "execution_count": 36,
     "metadata": {},
     "output_type": "execute_result"
    },
    {
     "data": {
      "image/png": "[encoded data removed]",
      "text/plain": [
       "<matplotlib.figure.Figure at 0x1f1cfef0>"
      ]
     },
     "metadata": {},
     "output_type": "display_data"
    }
   ],
   "source": [
    "# taking all the features of the original data set\n",
    "x_matrix = np.ones((506, 14, ))\n",
    "x_matrix[:,1:2] = standardize(boston_df[\"RM\"]).reshape(506,1)\n",
    "x_matrix[:,2:3] = standardize(boston_df[\"CRIM\"]).reshape(506,1)\n",
    "x_matrix[:,3:4] = standardize(boston_df[\"ZN\"]).reshape(506,1)\n",
    "x_matrix[:,4:5] = standardize(boston_df[\"INDUS\"]).reshape(506,1)\n",
    "x_matrix[:,5:6] = standardize(boston_df[\"CHAS\"]).reshape(506,1)\n",
    "x_matrix[:,6:7] = standardize(boston_df[\"NOX\"]).reshape(506,1)\n",
    "x_matrix[:,7:8] = standardize(boston_df[\"AGE\"]).reshape(506,1)\n",
    "x_matrix[:,8:9] = standardize(boston_df[\"DIS\"]).reshape(506,1)\n",
    "x_matrix[:,9:10] = standardize(boston_df[\"RAD\"]).reshape(506,1)\n",
    "x_matrix[:,10:11] = standardize(boston_df[\"TAX\"]).reshape(506,1)\n",
    "x_matrix[:,11:12] = standardize(boston_df[\"PTRATIO\"]).reshape(506,1)\n",
    "x_matrix[:,12:13] = standardize(boston_df[\"B\"]).reshape(506,1)\n",
    "x_matrix[:,13:14] = standardize(boston_df[\"LSTAT\"]).reshape(506,1)\n",
    "y = boston_df[\"MEDV\"]\n",
    "\n",
    "#taking high values of L in order to see behavior\n",
    "L = [0.001,0.005,0.1,0.5,0.7,1,3,5,7,10,13,15,20,50,100,250,500,750]\n",
    "\n",
    "#list to store models\n",
    "ridge_models = []\n",
    "for l in L:\n",
    "    ridge_models.append(ridge_multivariate_ols(x_matrix, y, 0.01, l, 10000))\n",
    "\n",
    "#separate lists for features to store coeffs    \n",
    "RM=[]\n",
    "CRIM =[]\n",
    "ZN = []\n",
    "INDUS =[]\n",
    "CHAS = []\n",
    "NOX =[]\n",
    "AGE = []\n",
    "DIS = []\n",
    "RAD = []\n",
    "TAX = []\n",
    "PTRATIO = []\n",
    "B = []\n",
    "LSTAT = []\n",
    "for i in range(len(L)):\n",
    "    RM.append(ridge_models[i][1][0])\n",
    "    CRIM.append(ridge_models[i][2][0])\n",
    "    ZN.append(ridge_models[i][3][0])\n",
    "    INDUS.append(ridge_models[i][4][0])\n",
    "    CHAS.append(ridge_models[i][5][0])\n",
    "    NOX.append(ridge_models[i][6][0])\n",
    "    AGE.append(ridge_models[i][7][0])\n",
    "    DIS.append(ridge_models[i][8][0])\n",
    "    RAD.append(ridge_models[i][9][0])\n",
    "    TAX.append(ridge_models[i][10][0])\n",
    "    PTRATIO.append(ridge_models[i][11][0])\n",
    "    B.append(ridge_models[i][12][0])\n",
    "    LSTAT.append(ridge_models[i][13][0])\n",
    "    \n",
    "#making a data frame    \n",
    "coef_df = pd.DataFrame({\"L\":L, 'RM':RM, 'CRIM':CRIM, 'ZN':ZN, 'INDUS':INDUS,\n",
    "                       \"CHAS\":CHAS, 'NOX':NOX, 'AGE':AGE, 'DIS':DIS, 'RAD':RAD,\n",
    "                       \"TAX\":TAX, 'LSTAT':RM, 'PTRATIO':PTRATIO, 'B':B})\n",
    "#plot\n",
    "coef_df.plot(x = \"L\", y = [\"AGE\",\"B\",\"CHAS\",\"CRIM\",\"DIS\",\"INDUS\",\"LSTAT\",\"NOX\",\"PTRATIO\",\"RAD\",\"RM\",\"TAX\",\"ZN\"], \n",
    "             figsize = (9,9))\n",
    "pylab.title(\"COEFFICIENTS AS FUNCTION OF LAMBDA\")\n",
    "pylab.xlabel(\"LAMBDA VALUE\")\n",
    "pylab.ylabel(\"COEFFICIENT\")"
   ]
  },
  {
   "cell_type": "markdown",
   "metadata": {},
   "source": [
    "* As the value of lamda increases, the coefficients converge to zero. \n",
    "* This is logical as higher lambda values will penalize the coefficients more and more. They will almost become zero."
   ]
  }
 ],
 "metadata": {
  "anaconda-cloud": {},
  "kernelspec": {
   "display_name": "Python [default]",
   "language": "python",
   "name": "python2"
  },
  "language_info": {
   "codemirror_mode": {
    "name": "ipython",
    "version": 2
   },
   "file_extension": ".py",
   "mimetype": "text/x-python",
   "name": "python",
   "nbconvert_exporter": "python",
   "pygments_lexer": "ipython2",
   "version": "2.7.12"
  }
 },
 "nbformat": 4,
 "nbformat_minor": 0
}
